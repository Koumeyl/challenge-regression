{
 "cells": [
  {
   "cell_type": "code",
   "execution_count": null,
   "metadata": {},
   "outputs": [],
   "source": [
    "import numpy as np\n",
    "\n",
    "import pandas as pd\n",
    "\n",
    "import seaborn as sns\n",
    "\n",
    "from sklearn import svm\n",
    "\n",
    "sns.set(rc={'figure.figsize':(16,13)})\n",
    "\n",
    "import matplotlib.pyplot as plt\n",
    "\n",
    "import sklearn\n",
    "\n",
    "from sklearn import preprocessing, svm\n",
    "\n",
    "from sklearn.linear_model import LinearRegression, Lasso\n",
    "from sklearn.model_selection import train_test_split\n",
    "\n",
    "\n",
    "from sklearn import linear_model\n",
    "from sklearn.metrics import mean_squared_error\n",
    "import matplotlib.pyplot as plt\n",
    "\n",
    "\n",
    "df_code = pd.read_excel(\"../data/zipcode_be.xlsx\")\n",
    "df = pd.read_csv(\"../data/data_model.csv\")\n",
    "df = df.rename({'Unnamed: 0': 'id'}, axis=1)\n",
    "df.head()\n",
    "df['code'] = df['zip-code']\n",
    "df_code['code']=df_code['code'].astype(int)\n",
    "df['code']=df['code'].astype(int)\n",
    "df = df.merge(df_code, on='code', how='left')\n",
    "df = df.drop_duplicates(subset=\"id\")\n",
    "df = df.dropna()\n",
    "df['building-state'] = df['building-state'].map({'good': 0, 'to renovate': 0, 'as new': 1, 'to be done up': 0, \n",
    "'just renovated': 0, 'to restore':0, \"to rebuild\": 0, \"not mentioned\": 0 })\n",
    "df_houses = df[df[\"property-type\"].str.contains(\"house\")]\n",
    "\n",
    "\n",
    "#plotting the heatmap for correlation\n",
    "ax = sns.heatmap(df.corr(), annot=True)\n",
    "print(df.head())\n",
    "\n",
    "df['building-state'].info()"
   ]
  },
  {
   "cell_type": "markdown",
   "metadata": {},
   "source": [
    "## Model 1 "
   ]
  },
  {
   "cell_type": "code",
   "execution_count": null,
   "metadata": {},
   "outputs": [],
   "source": [
    "X = np.array(df['area']).reshape(-1, 1)\n",
    "\n",
    "y = np.array(df['price']).reshape(-1, 1)\n",
    "\n",
    "X_train, X_test, y_train, y_test = train_test_split(X, y)\n",
    "\n"
   ]
  },
  {
   "cell_type": "code",
   "execution_count": null,
   "metadata": {},
   "outputs": [],
   "source": [
    "\n",
    "#Mean squared error\n",
    "regr = LinearRegression()\n",
    "\n",
    "\n",
    "regr.fit(X_train, y_train)\n",
    "\n",
    "y_pred = regr.predict(y_test)\n",
    "\n",
    "y_pred.reshape(-1,1)\n",
    "\n",
    "mse = mean_squared_error(X_test, y_pred)\n",
    "print(mse)\n",
    "\n",
    "\n",
    "\n",
    "df_houses.info()"
   ]
  },
  {
   "cell_type": "markdown",
   "metadata": {},
   "source": [
    "## Model Lineare 2 houses"
   ]
  },
  {
   "cell_type": "code",
   "execution_count": null,
   "metadata": {},
   "outputs": [],
   "source": [
    "\n",
    "\n",
    "\n",
    "regr = LinearRegression()\n",
    "\n",
    "regr.fit(X_train, y_train)\n",
    "\n",
    "y_pred = regr.predict(X_test)\n",
    "\n",
    "y_pred.reshape(-1,1)\n",
    "\n",
    "mse = mean_squared_error(y_test, y_pred)\n",
    "print(f\"mse: {mse}\")\n",
    "\n",
    "print(f\"score: {regr.score(X_train, y_train)}\")\n"
   ]
  },
  {
   "cell_type": "markdown",
   "metadata": {},
   "source": [
    "## SVM Model Houses"
   ]
  },
  {
   "cell_type": "code",
   "execution_count": null,
   "metadata": {},
   "outputs": [],
   "source": [
    "#Import svm model\n",
    "\n",
    "\n",
    "# X = df_houses.drop(['price','property-type', 'full-address','name', 'province'],axis=1)\n",
    "\n",
    "from sklearn.preprocessing import StandardScaler\n",
    "\n",
    "\n",
    "X = df_houses.drop(['price','property-type', 'full-address','name', 'province'],axis=1)\n",
    "\n",
    "y = np.array(df_houses['price'])\n",
    "\n",
    "X_train, X_test, y_train, y_test = train_test_split(X, y, test_size=0.33, random_state=42)\n",
    "\n",
    "\n",
    "#Create a svm Classifier\n",
    "clf = svm.SVC(kernel='rbf', random_state=42) # Linear Kernel\n",
    "\n",
    "#Train the model using the training sets\n",
    "clf.fit(X_train, y_train)\n",
    "\n",
    "#Predict the response for test dataset\n",
    "y_pred = clf.predict(X_test)\n",
    "\n",
    "mse = mean_squared_error(y_test, y_pred)\n",
    "print(f\"mse: {mse}\")\n",
    "\n",
    "print(f\"score: {clf.score(X_test, y_test)}\")"
   ]
  },
  {
   "cell_type": "markdown",
   "metadata": {},
   "source": [
    "## Lasso house model"
   ]
  },
  {
   "cell_type": "code",
   "execution_count": null,
   "metadata": {},
   "outputs": [],
   "source": [
    "#Lasso regression model\n",
    "\n",
    "X = df_houses.drop(['price','property-type', 'full-address','name', 'province'],axis=1)\n",
    "\n",
    "y = np.array(df_houses['price'])\n",
    "\n",
    "X_train, X_test, y_train, y_test = train_test_split(X, y, test_size=0.33, random_state=42)\n",
    "\n",
    "lasso = Lasso(alpha = 10)\n",
    "lasso.fit(X_train,y_train)\n",
    "train_score_ls =lasso.score(X_train,y_train)\n",
    "test_score_ls =lasso.score(X_test,y_test)\n",
    "\n",
    "print(\"The train score for ls model is {}\".format(train_score_ls))\n",
    "print(\"The test score for ls model is {}\".format(test_score_ls))"
   ]
  },
  {
   "cell_type": "markdown",
   "metadata": {},
   "source": []
  },
  {
   "cell_type": "code",
   "execution_count": null,
   "metadata": {},
   "outputs": [],
   "source": [
    "from sklearn.linear_model import BayesianRidge \n",
    "\n",
    "y= np.array(df_houses['price']).reshape(-1,1)\n",
    "# X= df_houses.drop(['id','price','property-type', 'full-address','name', 'province', 'open-fire','zip-code'],axis=1)\n",
    "X= df_houses['area', 'lat', 'lng']\n",
    "print(df_houses.head())\n",
    "X_train, X_test, y_train, y_test = train_test_split(X,y,test_size=0.33,random_state = 42)\n",
    "bayesian = BayesianRidge()\n",
    "bayesian.fit(X_train, y_train)\n",
    "score = bayesian.score(X_test,y_test)\n",
    "print(f'the accuracy is {score}')"
   ]
  },
  {
   "cell_type": "code",
   "execution_count": null,
   "metadata": {},
   "outputs": [],
   "source": []
  }
 ],
 "metadata": {
  "kernelspec": {
   "display_name": "Python 3.10.7 ('env': venv)",
   "language": "python",
   "name": "python3"
  },
  "language_info": {
   "codemirror_mode": {
    "name": "ipython",
    "version": 3
   },
   "file_extension": ".py",
   "mimetype": "text/x-python",
   "name": "python",
   "nbconvert_exporter": "python",
   "pygments_lexer": "ipython3",
   "version": "3.10.7"
  },
  "orig_nbformat": 4,
  "vscode": {
   "interpreter": {
    "hash": "4d7700d5a2ac26872bb9e5fd0ec21cba7e985efb62742c74889c5ee40daa1ff7"
   }
  }
 },
 "nbformat": 4,
 "nbformat_minor": 2
}
