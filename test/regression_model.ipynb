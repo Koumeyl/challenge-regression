{
 "cells": [
  {
   "cell_type": "code",
   "execution_count": null,
   "id": "39c3622c",
   "metadata": {},
   "outputs": [],
   "source": [
    "import pandas as pd\n",
    "import numpy as np\n",
    "import matplotlib.pyplot as plt\n",
    "import seaborn as sns\n",
    "from sklearn.linear_model import LinearRegression\n",
    "from sklearn.model_selection import train_test_split\n",
    "from sklearn.metrics import mean_squared_error\n",
    "import openpyxl \n"
   ]
  },
  {
   "cell_type": "code",
   "execution_count": null,
   "id": "27dc3957",
   "metadata": {},
   "outputs": [],
   "source": [
    "df = pd.read_csv(\"../data/data_model.csv\")\n",
    "df_code = pd.read_excel('../data/zipcode_be.xlsx')"
   ]
  },
  {
   "cell_type": "code",
   "execution_count": null,
   "id": "87675538",
   "metadata": {},
   "outputs": [],
   "source": [
    "'''{\n",
    "  \"data\": {\n",
    "    \"area\": int,\n",
    "    \"property-type\": \"APARTMENT\" | \"HOUSE\" | \"OTHERS\",\n",
    "    \"rooms-number\": int,\n",
    "    \"zip-code\": int,\n",
    "    \"land-area\": Optional[int],\n",
    "    \"garden\": Optional[bool],\n",
    "    \"garden-area\": Optional[int],\n",
    "    \"equipped-kitchen\": Optional[bool],\n",
    "    \"full-address\": Optional[str],\n",
    "    \"swimming-pool\": Optional[bool],\n",
    "    \"furnished\": Optional[bool],\n",
    "    \"open-fire\": Optional[bool],\n",
    "    \"terrace\": Optional[bool],\n",
    "    \"terrace-area\": Optional[int],\n",
    "    \"facades-number\": Optional[int],\n",
    "    \"building-state\": Optional[\n",
    "      \"NEW\" | \"GOOD\" | \"TO RENOVATE\" | \"JUST RENOVATED\" | \"TO REBUILD\"\n",
    "    ]\n",
    "  }\n",
    "}\n",
    "'''"
   ]
  },
  {
   "cell_type": "code",
   "execution_count": null,
   "id": "f1b39024",
   "metadata": {},
   "outputs": [],
   "source": [
    "#df = df.drop('Unnamed: 0', axis=1)\n",
    "df = df.rename({'Unnamed: 0': 'id'}, axis=1)\n",
    "df.head()"
   ]
  },
  {
   "cell_type": "code",
   "execution_count": null,
   "id": "0d107401",
   "metadata": {},
   "outputs": [],
   "source": [
    "#df.hist(bins=50, figsize=(15, 15), )"
   ]
  },
  {
   "cell_type": "code",
   "execution_count": null,
   "id": "298cb7b2",
   "metadata": {},
   "outputs": [],
   "source": [
    "df = df.rename({'Unnamed: 0': 'id'}, axis=1)\n",
    "df.head()\n",
    "df['code'] = df['zip-code']\n",
    "df_code['code']=df_code['code'].astype(int)\n",
    "df['code']=df['code'].astype(int)\n",
    "df = df.merge(df_code, on='code', how='left')\n",
    "df = df.drop_duplicates(subset=\"id\")\n",
    "df = df.dropna()"
   ]
  },
  {
   "cell_type": "code",
   "execution_count": null,
   "id": "278ae8a4",
   "metadata": {},
   "outputs": [],
   "source": [
    "df['lng'] = df['lng'].astype(int)\n",
    "df['lat'] = df['lat'].astype(int)"
   ]
  },
  {
   "cell_type": "code",
   "execution_count": null,
   "id": "fbf13383",
   "metadata": {},
   "outputs": [],
   "source": [
    "df.head()"
   ]
  },
  {
   "cell_type": "code",
   "execution_count": null,
   "id": "3d69b620",
   "metadata": {},
   "outputs": [],
   "source": [
    "df['building-state'] = (df['building-state']).replace({'good': 0, 'to renovate': 0, 'as new': 1, 'to be done up': 0, \n",
    "'just renovated': 0, 'to restore':0, 'to rebuild':0 , 'not mentioned': 0})\n"
   ]
  },
  {
   "cell_type": "code",
   "execution_count": null,
   "id": "a92a6fdc",
   "metadata": {},
   "outputs": [],
   "source": [
    "# sns.set_style(\"whitegrid\")\n",
    "# fig, ax = plt.subplots(1,1, figsize=(10, 8), dpi=80)\n",
    "\n",
    "# # Find the order\n",
    "# my_order = df.groupby(by=[\"building-state\"])[\"price\"].mean().sort_values(ascending=False).index\n",
    "\n",
    "# box_plot = sns.boxplot(x = 'building-state',y = 'price',data = df, order=my_order, showfliers=False, palette=\"mako\")\n",
    "# plt.ylabel('Price', fontsize=20, fontweight='bold', fontfamily='times')\n",
    "\n",
    "\n",
    "# plt.xlabel('')\n",
    "# #plt.title('Comparison of real estate prices in provinces of Belgium', fontsize=30, fontweight='bold', fontfamily='times')\n",
    "# ax = box_plot.axes\n",
    "# ax.text(x=0.5, y=1.1, s='Comparison of real estate prices\\n of building-state in Belgium', fontfamily='times', fontsize=25, weight='bold', ha='center', va='bottom', transform=ax.transAxes)\n",
    "# ax.text(x=0.5, y=1.05, s='source: immoweb.com', fontsize=15, alpha=0.75, ha='center', fontfamily='times', va='bottom', transform=ax.transAxes)\n",
    "\n",
    "# lines = ax.get_lines()\n",
    "\n",
    "# ax.tick_params(axis='x', rotation=90)\n",
    "\n",
    "# for s in ['top', 'left', 'right']:\n",
    "#     ax.spines[s].set_visible(False)\n",
    "# ax.grid(axis='y', linestyle='-', alpha=0.4) \n",
    "\n",
    "# box_plot.figure.tight_layout()"
   ]
  },
  {
   "cell_type": "code",
   "execution_count": null,
   "id": "707ec9bf",
   "metadata": {},
   "outputs": [],
   "source": [
    "\n",
    "cor_mat= df[:].corr()\n",
    "fig=plt.gcf()\n",
    "fig.set_size_inches(15,15)\n",
    "sns.heatmap(data=cor_mat, square=True, annot=True, cbar=True, cmap=\"mako\")\n",
    "plt.savefig('corr-matrix.png')\n",
    "plt.show()"
   ]
  },
  {
   "cell_type": "code",
   "execution_count": null,
   "id": "88186ff7",
   "metadata": {},
   "outputs": [],
   "source": [
    "#LinerRegression model: only variables with >0.2 of correlation\n",
    "\n",
    "y= np.array(df['price']).reshape(-1,1)\n",
    "X= df.drop(['price','full-address', 'property-type', 'building-state','zip-code','garden','equipped-kitchen','furnished','open-fire', 'terrace-area', 'facades-number','name', 'province'],axis=1)\n",
    "X_train, X_test, y_train, y_test = train_test_split(X,y,test_size=0.33,random_state = 42)\n",
    "model = LinearRegression()\n",
    "model.fit(X_train,y_train)\n",
    "pred=model.predict(X_test)\n",
    "predictions = pred.reshape(-1,1)\n",
    "print('MSE : ', mean_squared_error(y_test,predictions))\n",
    "print('RMSE : ', np.sqrt(mean_squared_error(y_test,predictions)))\n",
    "print('Score:', model.score(X_train, y_train))"
   ]
  },
  {
   "cell_type": "code",
   "execution_count": null,
   "id": "9abbd20e",
   "metadata": {},
   "outputs": [],
   "source": [
    "# LinerRegression model: only variables with >0.3 of correlation\n",
    "y= np.array(df['price']).reshape(-1,1)\n",
    "X= df.drop(['price','full-address', 'property-type', 'building-state','zip-code','garden','equipped-kitchen','furnished','open-fire', 'terrace-area', 'facades-number', 'swimming-pool', 'garden-area','name', 'province'],axis=1)\n",
    "X_train, X_test, y_train, y_test = train_test_split(X,y,test_size=0.33,random_state = 42)\n",
    "model = LinearRegression()\n",
    "model.fit(X_train,y_train)\n",
    "pred=model.predict(X_test)\n",
    "predictions = pred.reshape(-1,1)\n",
    "print('MSE : ', mean_squared_error(y_test,predictions))\n",
    "print('RMSE : ', np.sqrt(mean_squared_error(y_test,predictions)))\n",
    "print('Score:', model.score(X_train, y_train))\n",
    "\n",
    "\n",
    "import matplotlib.pyplot as plt\n",
    "\n",
    "\n",
    "# Initialize layout\n",
    "fig = plt.subplots(figsize = (9, 9))\n",
    "\n",
    "plt.scatter(y_test, pred)\n",
    "plt.plot([y_test.min(), y_test.max()], [y_test.min(), y_test.max()], 'g', lw=4)\n",
    "plt.xlabel(\"Actual prices\")\n",
    "plt.ylabel(\"Predicted prices\")\n",
    "\n",
    "\n",
    "\n",
    "\n",
    "\n",
    "\n",
    "\n",
    "\n"
   ]
  },
  {
   "cell_type": "code",
   "execution_count": null,
   "id": "5c9df3b0",
   "metadata": {},
   "outputs": [],
   "source": [
    "#split dataframe in Houses x Apartments\n",
    "df_house= df[df['property-type'] == 'house']\n",
    "df_apt = df[df['property-type'] == 'apartment']\n",
    "print(df_house.shape)\n",
    "print(df_apt.shape)\n"
   ]
  },
  {
   "cell_type": "code",
   "execution_count": null,
   "id": "f5e30486",
   "metadata": {},
   "outputs": [],
   "source": [
    "# LinerRegression model: only variables with Price vs Area\n",
    "\n",
    "X= np.array(df['area']).reshape(-1,1)\n",
    "y= np.array(df['price']).reshape(-1,1)\n",
    "X_train, X_test, y_train, y_test = train_test_split(X,y,test_size=0.33,random_state = 42)\n",
    "model = LinearRegression()\n",
    "model.fit(X_train,y_train)\n",
    "pred=model.predict(X_test)\n",
    "predictions = pred.reshape(-1,1)\n",
    "print('MSE: ', mean_squared_error(y_test,predictions))\n",
    "print('RMSE: ', np.sqrt(mean_squared_error(y_test,predictions)))\n",
    "print('Score:', model.score(X_train, y_train))"
   ]
  },
  {
   "cell_type": "code",
   "execution_count": null,
   "id": "70522fa8",
   "metadata": {},
   "outputs": [],
   "source": [
    "# LinerRegression model: only variables with Price vs Rooms number\n",
    "\n",
    "X= np.array(df['rooms-number']).reshape(-1,1)\n",
    "y= np.array(df['price']).reshape(-1,1)\n",
    "X_train, X_test, y_train, y_test = train_test_split(X,y,test_size=0.33,random_state = 42)\n",
    "model = LinearRegression()\n",
    "model.fit(X_train,y_train)\n",
    "pred=model.predict(X_test)\n",
    "predictions = pred.reshape(-1,1)\n",
    "print('MSE: ', mean_squared_error(y_test,predictions))\n",
    "print('RMSE: ', np.sqrt(mean_squared_error(y_test,predictions)))\n",
    "print('Score:', model.score(X_train, y_train))\n",
    "\n",
    "import matplotlib.pyplot as plt\n",
    "\n",
    "plt.scatter(y_test, pred)\n",
    "plt.xlabel(\"Actual prices\")\n",
    "plt.ylabel(\"Predicted prices\")\n",
    "plt.show()"
   ]
  },
  {
   "cell_type": "markdown",
   "id": "526c5c4a",
   "metadata": {},
   "source": [
    "## Houses"
   ]
  },
  {
   "cell_type": "code",
   "execution_count": 83,
   "id": "c9f09cc9",
   "metadata": {},
   "outputs": [
    {
     "name": "stdout",
     "output_type": "stream",
     "text": [
      "MSE:  354117843162.244\n",
      "RMSE:  595078.0143495842\n",
      "Score: 0.011472143257574285\n"
     ]
    },
    {
     "data": {
      "text/plain": [
       "Text(0, 0.5, 'Predicted prices')"
      ]
     },
     "execution_count": 83,
     "metadata": {},
     "output_type": "execute_result"
    },
    {
     "data": {
      "image/png": "[encoded data removed]",
      "text/plain": [
       "<Figure size 900x900 with 1 Axes>"
      ]
     },
     "metadata": {},
     "output_type": "display_data"
    }
   ],
   "source": [
    "#LinearRegression model with lat/lng for HOUSES\n",
    "\n",
    "y= np.array(df_house['price']).reshape(-1,1)\n",
    "X= df_house.drop(['price','property-type', 'full-address','name', 'province'],axis=1)\n",
    "X_train, X_test, y_train, y_test = train_test_split(X,y,test_size=0.33,random_state = 42)\n",
    "model = LinearRegression()\n",
    "model.fit(X_train,y_train)\n",
    "pred=model.predict(X_test)\n",
    "predictions = pred.reshape(-1,1)\n",
    "print('MSE: ', mean_squared_error(y_test,predictions))\n",
    "print('RMSE: ', np.sqrt(mean_squared_error(y_test,predictions)))\n",
    "print('Score:', model.score(X_test, y_test))\n",
    "\n",
    "\n",
    "import matplotlib.pyplot as plt\n",
    "\n",
    "fig = plt.subplots(figsize = (9, 9))\n",
    "\n",
    "plt.scatter(y_test, pred)\n",
    "plt.plot([y_test.min(), y_test.max()], [y_test.min(), y_test.max()], 'g', lw=4)\n",
    "plt.xlabel(\"Actual prices\")\n",
    "plt.ylabel(\"Predicted prices\")"
   ]
  },
  {
   "cell_type": "code",
   "execution_count": null,
   "metadata": {},
   "outputs": [],
   "source": [
    "df_house.drop(['id','price','property-type', 'full-address','name', 'province'],axis=1)"
   ]
  },
  {
   "cell_type": "code",
   "execution_count": null,
   "id": "8b248c4d",
   "metadata": {},
   "outputs": [],
   "source": [
    "\n"
   ]
  },
  {
   "cell_type": "markdown",
   "id": "bc0e9582",
   "metadata": {},
   "source": [
    "## Apartments"
   ]
  },
  {
   "cell_type": "code",
   "execution_count": null,
   "id": "4f1f50f1",
   "metadata": {},
   "outputs": [],
   "source": [
    "#LinearRegression model with lat/lng for APARTMENTS\n",
    "\n",
    "y= np.array(df_apt['price']).reshape(-1,1)\n",
    "X= df_apt.drop(['price','property-type', 'full-address','name', 'province'],axis=1)\n",
    "X_train, X_test, y_train, y_test = train_test_split(X,y,test_size=0.33,random_state = 42)\n",
    "model = LinearRegression()\n",
    "model.fit(X_train,y_train)\n",
    "pred=model.predict(X_test)\n",
    "predictions = pred.reshape(-1,1)\n",
    "print('MSE: ', mean_squared_error(y_test,predictions))\n",
    "print('RMSE: ', np.sqrt(mean_squared_error(y_test,predictions)))\n",
    "print('Score:', model.score(X_test, y_test))"
   ]
  },
  {
   "cell_type": "code",
   "execution_count": null,
   "id": "82a7d4da",
   "metadata": {},
   "outputs": [],
   "source": [
    "from sklearn.tree import DecisionTreeRegressor\n",
    "from sklearn.ensemble import RandomForestRegressor\n",
    "from sklearn.metrics import explained_variance_score\n",
    "from sklearn.metrics import confusion_matrix\n",
    "\n",
    "\n"
   ]
  },
  {
   "cell_type": "code",
   "execution_count": null,
   "id": "f8ab40e3",
   "metadata": {},
   "outputs": [],
   "source": [
    "y= np.array(df_house['price']).reshape(-1,1)\n",
    "X= df_house.drop(['price','property-type', 'full-address','name', 'province'],axis=1)\n",
    "X_train, X_test, y_train, y_test = train_test_split(X,y,test_size=0.33,random_state = 42)"
   ]
  },
  {
   "cell_type": "code",
   "execution_count": null,
   "id": "18d3e3c2",
   "metadata": {},
   "outputs": [],
   "source": [
    "#Multiple Linear Regression \n",
    "y= np.array(df['price']).reshape(-1,1)\n",
    "X= df.drop(['price','property-type', 'full-address','name', 'province'],axis=1)\n",
    "X_train, X_test, y_train, y_test = train_test_split(X,y,test_size=0.33,random_state = 42)\n",
    "mlr = LinearRegression()\n",
    "mlr.fit(X_train,y_train)\n",
    "mlr_score = mlr.score(X_test,y_test)\n",
    "pred_mlr = mlr.predict(X_test)\n",
    "expl_mlr = explained_variance_score(pred_mlr,y_test)\n",
    "print('Score: ', mlr_score)\n",
    "print('MSE: ', mean_squared_error(y_test,pred_mlr))\n",
    "print('RMSE: ', np.sqrt(mean_squared_error(y_test,pred_mlr)))"
   ]
  },
  {
   "cell_type": "code",
   "execution_count": null,
   "id": "8f5e7472",
   "metadata": {},
   "outputs": [],
   "source": [
    "#Decision Tree\n",
    "\n",
    "df_house= df[df['property-type'] == 'house']\n",
    "df_apt = df[df['property-type'] == 'apartment']\n",
    "\n",
    "y= np.array(df_house['price']).reshape(-1,1)\n",
    "X= df_house.drop(['price','property-type', 'full-address','name', 'province'],axis=1)\n",
    "X_train, X_test, y_train, y_test = train_test_split(X,y,test_size=0.33,random_state = 42)\n",
    "\n",
    "tr_regressor = DecisionTreeRegressor(random_state=42)\n",
    "tr_regressor.fit(X_train,y_train)\n",
    "pred_tr = tr_regressor.predict(X_test)\n",
    "decision_score=tr_regressor.score(X_test,y_test)\n",
    "print('Score:', decision_score)\n",
    "expl_tr = explained_variance_score(pred_tr,y_test)\n",
    "print('MSE: ', mean_squared_error(y_test,pred_tr))\n",
    "print('RMSE: ', np.sqrt(mean_squared_error(y_test,pred_tr)))"
   ]
  },
  {
   "cell_type": "code",
   "execution_count": null,
   "id": "849c92a1",
   "metadata": {},
   "outputs": [],
   "source": [
    "#Random Forest Regression Model \n",
    "\n",
    "df_house= df[df['property-type'] == 'house']\n",
    "df_apt = df[df['property-type'] == 'apartment']\n",
    "\n",
    "y= np.array(df_house['price']).reshape(-1,1)\n",
    "X= df_house.drop(['id', 'price','property-type', 'full-address','name', 'province'],axis=1)\n",
    "X_train, X_test, y_train, y_test = train_test_split(X,y,test_size=0.33,random_state = 42)\n",
    "rf_regressor = RandomForestRegressor(n_estimators=28,random_state=42)\n",
    "rf_regressor.fit(X_train,y_train)\n",
    "rf_pred =rf_regressor.predict(X_test)\n",
    "rf_score=rf_regressor.score(X_test,y_test)\n",
    "expl_rf = explained_variance_score(rf_pred,y_test)\n",
    "print('MSE: ', mean_squared_error(y_test,rf_pred))\n",
    "print('RMSE: ', np.sqrt(mean_squared_error(y_test,rf_pred)))\n",
    "print('Score:', rf_score)"
   ]
  },
  {
   "cell_type": "code",
   "execution_count": null,
   "id": "116b5517",
   "metadata": {},
   "outputs": [],
   "source": []
  },
  {
   "cell_type": "code",
   "execution_count": null,
   "id": "0f856360",
   "metadata": {},
   "outputs": [],
   "source": [
    "#SVR Support Vector Regressor model\n",
    "from sklearn.preprocessing import StandardScaler\n",
    "from sklearn import preprocessing, svm\n",
    "\n",
    "y= np.array(df_house['price']).reshape(-1,1)\n",
    "X= df_house.drop(['price','property-type', 'full-address','name', 'province'],axis=1)\n",
    "X_train, X_test, y_train, y_test = train_test_split(X,y,test_size=0.33,random_state = 42)\n",
    "sc = StandardScaler()\n",
    "X_train = sc.fit_transform(X_train)\n",
    "X_test = sc.transform(X_test)\n",
    "#Create a svm Classifier\n",
    "clf = svm.SVC(kernel='rbf', random_state=42) # Linear Kernel\n",
    "#Train the model using the training sets\n",
    "clf.fit(X_train, y_train)\n",
    "#Predict the response for test dataset\n",
    "y_pred = clf.predict(X_test)\n",
    "clf_score = clf.score(X_test, y_test)\n",
    "mse_SVR = mean_squared_error(y_test, y_pred)\n",
    "print(f\"MSE: {mse_SVR}\")\n",
    "print(f\"Score: {clf.score(X_test, y_test)}\")\n"
   ]
  },
  {
   "cell_type": "code",
   "execution_count": null,
   "id": "c7814b3b",
   "metadata": {},
   "outputs": [],
   "source": [
    "# Ridge model\n",
    "from sklearn.linear_model import Ridge \n",
    "\n",
    "y= np.array(df_house['price']).reshape(-1,1)\n",
    "X= df_house.drop(['price','property-type', 'full-address','name', 'province'],axis=1)\n",
    "X_train, X_test, y_train, y_test = train_test_split(X,y,test_size=0.33,random_state = 42)\n",
    "ridge = Ridge(alpha = 0.5)\n",
    "ridge.fit(X_train, y_train)\n",
    "score = ridge.score(X_test,y_test)\n",
    "print(f'the accuracy is {score}')"
   ]
  },
  {
   "cell_type": "code",
   "execution_count": null,
   "id": "1dcb2672",
   "metadata": {},
   "outputs": [],
   "source": [
    "from sklearn.linear_model import LinearRegression # OLS algorithm\n",
    "from sklearn.linear_model import Ridge # Ridge algorithm\n",
    "from sklearn.linear_model import Lasso # Lasso algorithm\n",
    "from sklearn.linear_model import BayesianRidge # Bayesian algorithm\n",
    "from sklearn.linear_model import ElasticNet # ElasticNet algorithm"
   ]
  },
  {
   "cell_type": "code",
   "execution_count": null,
   "id": "fe5c9d82",
   "metadata": {},
   "outputs": [],
   "source": [
    "# Bayesian model\n",
    "from sklearn.linear_model import BayesianRidge \n",
    "\n",
    "y= np.array(df_house['price']).reshape(-1,1)\n",
    "X= df_house.drop(['price','property-type', 'full-address','name', 'province'],axis=1)\n",
    "X_train, X_test, y_train, y_test = train_test_split(X,y,test_size=0.33,random_state = 42)\n",
    "bayesian = BayesianRidge()\n",
    "bayesian.fit(X_train, y_train)\n",
    "score = bayesian.score(X_test,y_test)\n",
    "print(f'the accuracy is {score}')"
   ]
  },
  {
   "cell_type": "code",
   "execution_count": null,
   "id": "c3ea65ba",
   "metadata": {},
   "outputs": [],
   "source": [
    "# ElasticNet model \n",
    "from sklearn.linear_model import ElasticNet \n",
    "\n",
    "y= np.array(df_house['price']).reshape(-1,1)\n",
    "X= df_house.drop(['price','property-type', 'full-address','name', 'province'],axis=1)\n",
    "X_train, X_test, y_train, y_test = train_test_split(X,y,test_size=0.33,random_state = 42)\n",
    "en = ElasticNet(alpha = 0.01)\n",
    "en.fit(X_train, y_train)\n",
    "score = en.score(X_test,y_test)\n",
    "print(f'the accuracy is {score}')"
   ]
  },
  {
   "cell_type": "code",
   "execution_count": null,
   "id": "7e6b8da1",
   "metadata": {},
   "outputs": [],
   "source": [
    "#Lasso model \n",
    "from sklearn.linear_model import Lasso \n",
    "\n",
    "y= np.array(df_house['price']).reshape(-1,1)\n",
    "X= df_house.drop(['price','property-type', 'full-address','name', 'province'],axis=1)\n",
    "X_train, X_test, y_train, y_test = train_test_split(X,y,test_size=0.33,random_state = 42)\n",
    "lasso = Lasso(alpha = 10)\n",
    "lasso.fit(X_train,y_train)\n",
    "train_score_ls =lasso.score(X_train,y_train)\n",
    "test_score_ls =lasso.score(X_test,y_test)\n",
    "\n",
    "print(\"The train score for ls model is {}\".format(train_score_ls))\n",
    "print(\"The test score for ls model is {}\".format(test_score_ls))"
   ]
  },
  {
   "cell_type": "code",
   "execution_count": null,
   "id": "86e69d54",
   "metadata": {},
   "outputs": [],
   "source": [
    "#Gradient Boosting Regressor\n",
    "from sklearn import ensemble\n",
    "\n",
    "\n",
    "y= np.array(df_house['price']).reshape(-1,1)\n",
    "X= df_house.drop(['price','property-type', 'full-address','name', 'province'],axis=1)\n",
    "X_train, X_test, y_train, y_test = train_test_split(X,y,test_size=0.33,random_state = 42)\n",
    "\n",
    "clf = ensemble.GradientBoostingRegressor(n_estimators=400,max_depth=5,min_samples_split=2,learning_rate=0.1,loss= 'ls')\n",
    "clf.fit(X_train,y_train)\n",
    "score = clf.score(X_test,y_test)\n",
    "print(f'the accuracy is {score}')"
   ]
  },
  {
   "cell_type": "code",
   "execution_count": null,
   "id": "01ef9248",
   "metadata": {},
   "outputs": [],
   "source": [
    "#pandas data frame, for a clear comparison\n",
    "\n",
    "models_score =pd.DataFrame({'Model':['Multiple Linear Regression','Decision Tree','Random forest Regression','Support Vector Regressor'],\n",
    "                            'Score':[mlr_score,decision_score,rf_score,clf_score ],\n",
    "                            'Explained Variance Score':[expl_mlr,expl_tr,expl_rf, mse_SVR]\n",
    "                           })\n",
    "models_score.sort_values(by='Score',ascending=False)"
   ]
  },
  {
   "cell_type": "code",
   "execution_count": null,
   "id": "16db6bf9",
   "metadata": {},
   "outputs": [],
   "source": [
    "df_PD = pd.read_csv(\"../data/Properties_data.csv\")\n",
    "df_PD.info()\n"
   ]
  },
  {
   "cell_type": "code",
   "execution_count": null,
   "id": "233e058e",
   "metadata": {},
   "outputs": [],
   "source": []
  },
  {
   "cell_type": "markdown",
   "id": "e19f59ba",
   "metadata": {},
   "source": []
  }
 ],
 "metadata": {
  "kernelspec": {
   "display_name": "Python 3.10.7 ('env': venv)",
   "language": "python",
   "name": "python3"
  },
  "language_info": {
   "codemirror_mode": {
    "name": "ipython",
    "version": 3
   },
   "file_extension": ".py",
   "mimetype": "text/x-python",
   "name": "python",
   "nbconvert_exporter": "python",
   "pygments_lexer": "ipython3",
   "version": "3.10.7"
  },
  "vscode": {
   "interpreter": {
    "hash": "4d7700d5a2ac26872bb9e5fd0ec21cba7e985efb62742c74889c5ee40daa1ff7"
   }
  }
 },
 "nbformat": 4,
 "nbformat_minor": 5
}
